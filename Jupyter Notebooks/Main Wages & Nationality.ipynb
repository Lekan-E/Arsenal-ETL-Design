{
 "cells": [
  {
   "cell_type": "code",
   "execution_count": 40,
   "metadata": {},
   "outputs": [],
   "source": [
    "# Import required libraries\n",
    "from selenium import webdriver\n",
    "from selenium.webdriver.common.by import By\n",
    "from webdriver_manager.chrome import ChromeDriverManager\n",
    "import pandas as pd"
   ]
  },
  {
   "cell_type": "code",
   "execution_count": 41,
   "metadata": {},
   "outputs": [],
   "source": [
    "# Assign the seasons accordingly\n",
    "season_mapping = {\n",
    "    2023:'2023-2024',\n",
    "    2022:'2022-2023',\n",
    "    2021:'2021-2022',\n",
    "    2020:'2020-2021',\n",
    "    2019:'2019-2020'\n",
    "}"
   ]
  },
  {
   "cell_type": "markdown",
   "metadata": {},
   "source": [
    "# Function to scrape - Wages"
   ]
  },
  {
   "cell_type": "code",
   "execution_count": 42,
   "metadata": {},
   "outputs": [],
   "source": [
    "# Define a function that takes a season, scrapes the data and stores in 'df_wages' variable accordingly\n",
    "\n",
    "def wages(season):\n",
    "\n",
    "    page_url = f'https://fbref.com/en/squads/18bb7c10/{season}/wages/Arsenal-Wage-Details'\n",
    "\n",
    "    df_wages = pd.read_html(page_url, attrs = {'id':\"wages\"})[0]\n",
    "    df_wages = df_wages.iloc[:,0:5]\n",
    "    df_wages['season_name'] = season\n",
    "\n",
    "    # Remove blank rows\n",
    "    df_wages = df_wages.drop(df_wages[df_wages['Weekly Wages'].isna()].index)\n",
    "\n",
    "    return df_wages\n"
   ]
  },
  {
   "cell_type": "code",
   "execution_count": 44,
   "metadata": {},
   "outputs": [],
   "source": [
    "# Enter desired season\n",
    "df_wages_19 = wages(season_mapping[2019])\n",
    "df_wages_20 = wages(season_mapping[2020])\n",
    "df_wages_21 = wages(season_mapping[2021])\n",
    "df_wages_22 = wages(season_mapping[2022])\n",
    "\n",
    "dfs_to_concat = [df_wages_19, df_wages_20, df_wages_21, df_wages_22]\n",
    "df_wages_1922_list = pd.concat(dfs_to_concat, ignore_index=True)\n",
    "\n",
    "# Export table to .csv\n",
    "# Export values\n",
    "df_wages_1922_list.to_csv(\"/Users/Razak/Desktop/Arsenal Database Project/scraped csv files/Raw csv/Old Season/temp_wages19-22_raw.csv\", index=False, encoding = 'utf-8-sig')"
   ]
  },
  {
   "cell_type": "markdown",
   "metadata": {},
   "source": [
    "Run the below cell to update the database"
   ]
  },
  {
   "cell_type": "code",
   "execution_count": 45,
   "metadata": {},
   "outputs": [],
   "source": [
    "# save new season table (Always updating)\n",
    "df_wages_23 = wages(season_mapping[2023])\n",
    "\n",
    "# read old season table (using pandas read excel)\n",
    "previous_table = pd.read_csv(\"/Users/Razak/Desktop/Arsenal Database Project/scraped csv files/Raw csv/Old Season/temp_wages19-22_raw.csv\")\n",
    "\n",
    "# join new and onld season (concat)\n",
    "joined_season = pd.concat([previous_table, df_wages_23], ignore_index=True)\n",
    "\n",
    "# export join (export and save as old+new updated table)\n",
    "joined_season.to_csv(\"/Users/Razak/Desktop/Arsenal Database Project/scraped csv files/Raw csv/Updated tables/temp_updatedwages_raw.csv\", index=False, encoding = 'utf-8-sig')"
   ]
  },
  {
   "cell_type": "markdown",
   "metadata": {},
   "source": [
    "# Function to scrape - Nationality"
   ]
  },
  {
   "cell_type": "code",
   "execution_count": 46,
   "metadata": {},
   "outputs": [],
   "source": [
    "\n",
    "def nationality(season):\n",
    "\n",
    "    driver = webdriver.Chrome()\n",
    "\n",
    "    # Define a function that takes the desired season and inserts it into with various if statements\n",
    "\n",
    "    page_url = f\"https://fbref.com/en/squads/18bb7c10/{season}/roster/Arsenal-Roster-Details\"\n",
    "    driver.get(page_url) \n",
    "\n",
    "    name = driver.find_elements(By.CLASS_NAME, 'roster-player-info')\n",
    "\n",
    "    # Clean dataset\n",
    "    name_list = []\n",
    "    for i in range(len(name)):\n",
    "        name_list.append(name[i].text.split('\\n'))\n",
    "    \n",
    "    df_nationality = pd.DataFrame(name_list)\n",
    "\n",
    "    a = df_nationality.iloc[:,3]\n",
    "    df_nations = pd.DataFrame(a)\n",
    "\n",
    "    # Remove duplicates\n",
    "    df_nations = df_nations.drop_duplicates()\n",
    "    df_nations.reset_index(drop=True, inplace=True)\n",
    "\n",
    "    # Rename column\n",
    "    df_nations.rename(columns = {3:'Nationality'}, inplace=True)\n",
    "\n",
    "    # Remove empty rows\n",
    "    df_nations = df_nations.dropna()\n",
    "\n",
    "    return df_nations"
   ]
  },
  {
   "cell_type": "markdown",
   "metadata": {},
   "source": [
    "### Historical Data"
   ]
  },
  {
   "cell_type": "code",
   "execution_count": 47,
   "metadata": {},
   "outputs": [],
   "source": [
    "# Enter desired season\n",
    "df_nationality_19 = nationality(season_mapping[2019])\n",
    "df_nationality_20 = nationality(season_mapping[2020])\n",
    "df_nationality_21 = nationality(season_mapping[2021])\n",
    "df_nationality_22 = nationality(season_mapping[2022])\n",
    "\n",
    "# Join all the old data together into a table,\n",
    "previous_season = [df_nationality_19,df_nationality_20,df_nationality_21,df_nationality_22]\n",
    "df_nationality_1922_table = pd.concat(previous_season, ignore_index=True)\n",
    "\n",
    "# Export table to .csv\n",
    "# Export values\n",
    "df_nationality_1922_table.to_csv(\"/Users/Razak/Desktop/Arsenal Database Project/scraped csv files/Raw csv/Old Season/temp_nationality19-22_raw.csv\", index=False, encoding = 'utf-8-sig')"
   ]
  },
  {
   "cell_type": "markdown",
   "metadata": {},
   "source": [
    "### Current Season Data\n",
    "Run the code below to add new data for the current season to the existing data above, then export the updated data."
   ]
  },
  {
   "cell_type": "code",
   "execution_count": 49,
   "metadata": {},
   "outputs": [],
   "source": [
    "# New table\n",
    "df_nationality_23 = nationality(season_mapping[2023])\n",
    "\n",
    "# read old season table (using pandas read excel)\n",
    "previous_table = pd.read_csv(\"/Users/Razak/Desktop/Arsenal Database Project/scraped csv files/Raw csv/Old Season/temp_nationality19-22_raw.csv\")\n",
    "\n",
    "# join new and onld season (concat)\n",
    "joined_season = pd.concat([previous_table, df_nationality_23], ignore_index=True)\n",
    "\n",
    "# export join (export and save as old+new updated table)\n",
    "joined_season.to_csv(\"/Users/Razak/Desktop/Arsenal Database Project/scraped csv files/Raw csv/Updated tables/temp_updatednationality_raw.csv\", index=False, encoding = 'utf-8-sig')"
   ]
  }
 ],
 "metadata": {
  "kernelspec": {
   "display_name": "Python 3",
   "language": "python",
   "name": "python3"
  },
  "language_info": {
   "codemirror_mode": {
    "name": "ipython",
    "version": 3
   },
   "file_extension": ".py",
   "mimetype": "text/x-python",
   "name": "python",
   "nbconvert_exporter": "python",
   "pygments_lexer": "ipython3",
   "version": "3.12.1"
  }
 },
 "nbformat": 4,
 "nbformat_minor": 2
}
