{
 "cells": [
  {
   "cell_type": "markdown",
   "metadata": {},
   "source": [
    "# Player's Wages"
   ]
  },
  {
   "cell_type": "code",
   "execution_count": 1,
   "metadata": {},
   "outputs": [],
   "source": [
    "# Import required libraries\n",
    "from selenium import webdriver\n",
    "from selenium.webdriver.common.by import By\n",
    "from webdriver_manager.chrome import ChromeDriverManager\n",
    "import pandas as pd"
   ]
  },
  {
   "cell_type": "code",
   "execution_count": 2,
   "metadata": {},
   "outputs": [],
   "source": [
    "# Assign the seasons accordingly\n",
    "season_mapping = {\n",
    "    2023:'2023-2024',\n",
    "    2022:'2022-2023',\n",
    "    2021:'2021-2022',\n",
    "    2020:'2020-2021',\n",
    "    2019:'2019-2020'\n",
    "}"
   ]
  },
  {
   "cell_type": "code",
   "execution_count": 3,
   "metadata": {},
   "outputs": [],
   "source": [
    "# Define a function that takes a season, scrapes the data and stores in 'df_wages' variable accordingly\n",
    "\n",
    "def wages(season):\n",
    "\n",
    "    page_url = f'https://fbref.com/en/squads/18bb7c10/{season}/wages/Arsenal-Wage-Details'\n",
    "\n",
    "    df_wages = pd.read_html(page_url, attrs = {'id':\"wages\"})[0]\n",
    "    df_wages = df_wages.iloc[:,0:5]\n",
    "    df_wages['season_name'] = season\n",
    "\n",
    "    # Remove blank rows\n",
    "    df_wages = df_wages.drop(df_wages[df_wages['Weekly Wages'].isna()].index)\n",
    "\n",
    "    return df_wages\n"
   ]
  },
  {
   "cell_type": "code",
   "execution_count": 44,
   "metadata": {},
   "outputs": [],
   "source": [
    "# Enter desired season\n",
    "df_wages_19 = wages(season_mapping[2019])\n",
    "df_wages_20 = wages(season_mapping[2020])\n",
    "df_wages_21 = wages(season_mapping[2021])\n",
    "df_wages_22 = wages(season_mapping[2022])\n",
    "\n",
    "dfs_to_concat = [df_wages_19, df_wages_20, df_wages_21, df_wages_22]\n",
    "df_wages_1922_list = pd.concat(dfs_to_concat, ignore_index=True)\n",
    "\n",
    "# Export table to .csv\n",
    "df_wages_1922_list.to_csv(\"/Users/Razak/Desktop/Arsenal Database Project/scraped csv files/Raw csv/Old Season/temp_wages19-22_raw.csv\", index=False, encoding = 'utf-8-sig')"
   ]
  },
  {
   "cell_type": "markdown",
   "metadata": {},
   "source": [
    "Run the below cell to update the database"
   ]
  },
  {
   "cell_type": "code",
   "execution_count": 4,
   "metadata": {},
   "outputs": [],
   "source": [
    "# save new season table (Always updating)\n",
    "df_wages_23 = wages(season_mapping[2023])\n",
    "\n",
    "# read old season table (using pandas read excel)\n",
    "previous_table = pd.read_csv(\"/Users/Razak/Desktop/Arsenal Database Project/scraped csv files/Raw csv/Old Season/temp_wages19-22_raw.csv\")\n",
    "\n",
    "# join new and onld season (concat)\n",
    "joined_season = pd.concat([previous_table, df_wages_23], ignore_index=True)\n",
    "\n",
    "# export join (export and save as old+new updated table)\n",
    "joined_season.to_csv(\"/Users/Razak/Desktop/Arsenal Database Project/scraped csv files/Raw csv/Updated tables/temp_updatedwages_raw.csv\", index=False, encoding = 'utf-8-sig')"
   ]
  },
  {
   "cell_type": "code",
   "execution_count": 6,
   "metadata": {},
   "outputs": [
    {
     "data": {
      "text/html": [
       "<div>\n",
       "<style scoped>\n",
       "    .dataframe tbody tr th:only-of-type {\n",
       "        vertical-align: middle;\n",
       "    }\n",
       "\n",
       "    .dataframe tbody tr th {\n",
       "        vertical-align: top;\n",
       "    }\n",
       "\n",
       "    .dataframe thead th {\n",
       "        text-align: right;\n",
       "    }\n",
       "</style>\n",
       "<table border=\"1\" class=\"dataframe\">\n",
       "  <thead>\n",
       "    <tr style=\"text-align: right;\">\n",
       "      <th></th>\n",
       "      <th>Player</th>\n",
       "      <th>Nation</th>\n",
       "      <th>Pos</th>\n",
       "      <th>Age</th>\n",
       "      <th>Weekly Wages</th>\n",
       "      <th>season_name</th>\n",
       "    </tr>\n",
       "  </thead>\n",
       "  <tbody>\n",
       "    <tr>\n",
       "      <th>45</th>\n",
       "      <td>Mohamed Elneny</td>\n",
       "      <td>eg EGY</td>\n",
       "      <td>MF</td>\n",
       "      <td>28.0</td>\n",
       "      <td>£ 50,000 (€ 59,628, $60,761)</td>\n",
       "      <td>2020-2021</td>\n",
       "    </tr>\n",
       "    <tr>\n",
       "      <th>16</th>\n",
       "      <td>Calum Chambers</td>\n",
       "      <td>eng ENG</td>\n",
       "      <td>DF</td>\n",
       "      <td>24.0</td>\n",
       "      <td>£ 50,000 (€ 59,628, $60,761)</td>\n",
       "      <td>2019-2020</td>\n",
       "    </tr>\n",
       "    <tr>\n",
       "      <th>73</th>\n",
       "      <td>Eddie Nketiah</td>\n",
       "      <td>eng ENG</td>\n",
       "      <td>FW</td>\n",
       "      <td>22.0</td>\n",
       "      <td>£ 45,000 (€ 53,665, $54,685)</td>\n",
       "      <td>2021-2022</td>\n",
       "    </tr>\n",
       "    <tr>\n",
       "      <th>89</th>\n",
       "      <td>Kieran Tierney</td>\n",
       "      <td>sct SCO</td>\n",
       "      <td>DF</td>\n",
       "      <td>25.0</td>\n",
       "      <td>£ 110,000 (€ 127,861, $139,811)</td>\n",
       "      <td>2022-2023</td>\n",
       "    </tr>\n",
       "    <tr>\n",
       "      <th>102</th>\n",
       "      <td>Marquinhos</td>\n",
       "      <td>br BRA</td>\n",
       "      <td>MF</td>\n",
       "      <td>19.0</td>\n",
       "      <td>£ 30,000 (€ 34,871, $38,130)</td>\n",
       "      <td>2022-2023</td>\n",
       "    </tr>\n",
       "  </tbody>\n",
       "</table>\n",
       "</div>"
      ],
      "text/plain": [
       "             Player   Nation Pos   Age                     Weekly Wages  \\\n",
       "45   Mohamed Elneny   eg EGY  MF  28.0     £ 50,000 (€ 59,628, $60,761)   \n",
       "16   Calum Chambers  eng ENG  DF  24.0     £ 50,000 (€ 59,628, $60,761)   \n",
       "73    Eddie Nketiah  eng ENG  FW  22.0     £ 45,000 (€ 53,665, $54,685)   \n",
       "89   Kieran Tierney  sct SCO  DF  25.0  £ 110,000 (€ 127,861, $139,811)   \n",
       "102      Marquinhos   br BRA  MF  19.0     £ 30,000 (€ 34,871, $38,130)   \n",
       "\n",
       "    season_name  \n",
       "45    2020-2021  \n",
       "16    2019-2020  \n",
       "73    2021-2022  \n",
       "89    2022-2023  \n",
       "102   2022-2023  "
      ]
     },
     "execution_count": 6,
     "metadata": {},
     "output_type": "execute_result"
    }
   ],
   "source": [
    "joined_season.sample(5)"
   ]
  },
  {
   "cell_type": "markdown",
   "metadata": {},
   "source": [
    "# Player's Nationality"
   ]
  },
  {
   "cell_type": "code",
   "execution_count": 7,
   "metadata": {},
   "outputs": [],
   "source": [
    "# Function takes the season, performs data cleaning and returns nationality\n",
    "def nationality(season):\n",
    "\n",
    "    # Web scrape using Selenium\n",
    "    driver = webdriver.Chrome()\n",
    "\n",
    "    page_url = f\"https://fbref.com/en/squads/18bb7c10/{season}/roster/Arsenal-Roster-Details\"\n",
    "    driver.get(page_url) \n",
    "\n",
    "    name = driver.find_elements(By.CLASS_NAME, 'roster-player-info')\n",
    "\n",
    "    # Clean dataset\n",
    "    name_list = []\n",
    "    for i in range(len(name)):\n",
    "        name_list.append(name[i].text.split('\\n'))\n",
    "    \n",
    "    df_nationality = pd.DataFrame(name_list)\n",
    "\n",
    "    a = df_nationality.iloc[:,3]\n",
    "    df_nations = pd.DataFrame(a)\n",
    "\n",
    "    # Remove duplicates\n",
    "    df_nations = df_nations.drop_duplicates()\n",
    "    df_nations.reset_index(drop=True, inplace=True)\n",
    "\n",
    "    # Rename column\n",
    "    df_nations.rename(columns = {3:'Nationality'}, inplace=True)\n",
    "\n",
    "    # Remove empty rows\n",
    "    df_nations = df_nations.dropna()\n",
    "\n",
    "    return df_nations"
   ]
  },
  {
   "cell_type": "markdown",
   "metadata": {},
   "source": [
    "### Historical Data\n",
    "Stores and saves data from past season, these ratings do not change threfore don't need to be ran frequently."
   ]
  },
  {
   "cell_type": "code",
   "execution_count": 47,
   "metadata": {},
   "outputs": [],
   "source": [
    "# Enter desired season\n",
    "df_nationality_19 = nationality(season_mapping[2019])\n",
    "df_nationality_20 = nationality(season_mapping[2020])\n",
    "df_nationality_21 = nationality(season_mapping[2021])\n",
    "df_nationality_22 = nationality(season_mapping[2022])\n",
    "\n",
    "# Join all the old data together into a table,\n",
    "previous_season = [df_nationality_19,df_nationality_20,df_nationality_21,df_nationality_22]\n",
    "df_nationality_1922_table = pd.concat(previous_season, ignore_index=True)\n",
    "\n",
    "# Export table to .csv\n",
    "# Export values\n",
    "df_nationality_1922_table.to_csv(\"/Users/Razak/Desktop/Arsenal Database Project/scraped csv files/Raw csv/Old Season/temp_nationality19-22_raw.csv\", index=False, encoding = 'utf-8-sig')"
   ]
  },
  {
   "cell_type": "markdown",
   "metadata": {},
   "source": [
    "### Current Season Data\n",
    "Run the code below to add new data for the current season to the existing data above, then export the updated data."
   ]
  },
  {
   "cell_type": "code",
   "execution_count": 8,
   "metadata": {},
   "outputs": [],
   "source": [
    "# New table\n",
    "df_nationality_23 = nationality(season_mapping[2023])\n",
    "\n",
    "# read old season table (using pandas read excel)\n",
    "previous_table = pd.read_csv(\"/Users/Razak/Desktop/Arsenal Database Project/scraped csv files/Raw csv/Old Season/temp_nationality19-22_raw.csv\")\n",
    "\n",
    "# join new and onld season (concat)\n",
    "joined_season = pd.concat([previous_table, df_nationality_23], ignore_index=True)\n",
    "\n",
    "# export join (export and save as old+new updated table)\n",
    "joined_season.to_csv(\"/Users/Razak/Desktop/Arsenal Database Project/scraped csv files/Raw csv/Updated tables/temp_updatednationality_raw.csv\", index=False, encoding = 'utf-8-sig')"
   ]
  },
  {
   "cell_type": "code",
   "execution_count": 9,
   "metadata": {},
   "outputs": [
    {
     "data": {
      "text/html": [
       "<div>\n",
       "<style scoped>\n",
       "    .dataframe tbody tr th:only-of-type {\n",
       "        vertical-align: middle;\n",
       "    }\n",
       "\n",
       "    .dataframe tbody tr th {\n",
       "        vertical-align: top;\n",
       "    }\n",
       "\n",
       "    .dataframe thead th {\n",
       "        text-align: right;\n",
       "    }\n",
       "</style>\n",
       "<table border=\"1\" class=\"dataframe\">\n",
       "  <thead>\n",
       "    <tr style=\"text-align: right;\">\n",
       "      <th></th>\n",
       "      <th>Nationality</th>\n",
       "    </tr>\n",
       "  </thead>\n",
       "  <tbody>\n",
       "    <tr>\n",
       "      <th>70</th>\n",
       "      <td>National Team: Estonia ee</td>\n",
       "    </tr>\n",
       "    <tr>\n",
       "      <th>57</th>\n",
       "      <td>National Team: Ghana gh</td>\n",
       "    </tr>\n",
       "    <tr>\n",
       "      <th>6</th>\n",
       "      <td>National Team: Bosnia and Herzegovina ba</td>\n",
       "    </tr>\n",
       "    <tr>\n",
       "      <th>17</th>\n",
       "      <td>National Team: Côte d'Ivoire ci</td>\n",
       "    </tr>\n",
       "    <tr>\n",
       "      <th>38</th>\n",
       "      <td>National Team: Ghana gh</td>\n",
       "    </tr>\n",
       "  </tbody>\n",
       "</table>\n",
       "</div>"
      ],
      "text/plain": [
       "                                 Nationality\n",
       "70                 National Team: Estonia ee\n",
       "57                   National Team: Ghana gh\n",
       "6   National Team: Bosnia and Herzegovina ba\n",
       "17           National Team: Côte d'Ivoire ci\n",
       "38                   National Team: Ghana gh"
      ]
     },
     "execution_count": 9,
     "metadata": {},
     "output_type": "execute_result"
    }
   ],
   "source": [
    "joined_season.sample(5)"
   ]
  }
 ],
 "metadata": {
  "kernelspec": {
   "display_name": "Python 3",
   "language": "python",
   "name": "python3"
  },
  "language_info": {
   "codemirror_mode": {
    "name": "ipython",
    "version": 3
   },
   "file_extension": ".py",
   "mimetype": "text/x-python",
   "name": "python",
   "nbconvert_exporter": "python",
   "pygments_lexer": "ipython3",
   "version": "3.12.1"
  }
 },
 "nbformat": 4,
 "nbformat_minor": 2
}
