{
 "cells": [
  {
   "cell_type": "code",
   "execution_count": 7,
   "metadata": {},
   "outputs": [],
   "source": [
    "# Import required libraries\n",
    "import pandas as pd\n",
    "import requests\n",
    "import time"
   ]
  },
  {
   "cell_type": "code",
   "execution_count": 8,
   "metadata": {},
   "outputs": [],
   "source": [
    "# Assign the seasons accordingly\n",
    "season_mapping = {\n",
    "    '2023-2024': 20720,\n",
    "    '2022-2023' : 17664,\n",
    "    '2021-2022' : 16390,\n",
    "    '2020-2021' : 15382,\n",
    "    '2019-2020' : 14022\n",
    "}"
   ]
  },
  {
   "cell_type": "code",
   "execution_count": 9,
   "metadata": {},
   "outputs": [],
   "source": [
    "# Function takes the season, performs data cleaning and returns ratings\n",
    "def ratings(season):\n",
    "\n",
    "    # Scrape data using API\n",
    "\n",
    "    headers = {\n",
    "    'sec-ch-ua': '\"Not_A Brand\";v=\"8\", \"Chromium\";v=\"120\", \"Google Chrome\";v=\"120\"',\n",
    "    'Referer': 'https://www.fotmob.com/leagues/47/stats/season/20720/players/rating/team/9825',\n",
    "    'x-fm-req': 'eyJib2R5Ijp7ImNvZGUiOjE3MDYxMzExOTE5Mjl9LCJzaWduYXR1cmUiOiJCNjg0Mjg0ODFEQTY5NjQ3MEVCNTFFQjkyM0RFNjcyQSJ9',\n",
    "    'sec-ch-ua-mobile': '?0',\n",
    "    'User-Agent': 'Mozilla/5.0 (Windows NT 10.0; Win64; x64) AppleWebKit/537.36 (KHTML, like Gecko) Chrome/120.0.0.0 Safari/537.36',\n",
    "    'sec-ch-ua-platform': '\"Windows\"',\n",
    "    }\n",
    "\n",
    "    params = {\n",
    "        'id': '47',\n",
    "        'season': season_mapping[season],\n",
    "        'type': 'players',\n",
    "        'stat': 'rating',\n",
    "        'teamId': '9825',\n",
    "    }\n",
    "\n",
    "    response = requests.get('https://www.fotmob.com/api/leagueseasondeepstats', params=params, headers=headers)\n",
    "\n",
    "    # Check the response status code \n",
    "    if response.status_code == 200:\n",
    "        playerRatings = response.json()\n",
    "\n",
    "        statsData = playerRatings['statsData']\n",
    "        names = [player['nameAndSubstatValue']['name'] for player in statsData] \n",
    "\n",
    "        \n",
    "        # Convert the dictionary into a dataframe\n",
    "        df_ratings = pd.DataFrame.from_dict(statsData)\n",
    "        df_ratings['nameAndSubstatValue'] = names\n",
    "        df_ratings = df_ratings.loc[:,['nameAndSubstatValue','statValue','rank']]\n",
    "        df_ratings['season_name'] = season\n",
    "\n",
    "        return df_ratings\n",
    "    \n",
    "    else:\n",
    "        f'Wrong response: {response.status_code}'\n",
    "    "
   ]
  },
  {
   "cell_type": "markdown",
   "metadata": {},
   "source": [
    "### Historical Data"
   ]
  },
  {
   "cell_type": "code",
   "execution_count": 10,
   "metadata": {},
   "outputs": [],
   "source": [
    "# Save old season table\n",
    "\n",
    "# Run for each year   \n",
    "df_ratings_19 = ratings('2019-2020')\n",
    "df_ratings_20 = ratings('2020-2021')\n",
    "df_ratings_21 = ratings('2021-2022')\n",
    "df_ratings_22 = ratings('2022-2023')\n",
    "\n",
    "# Join all the old data together into a table,\n",
    "previous_season = [df_ratings_19,df_ratings_20,df_ratings_21,df_ratings_22]\n",
    "df_ratings_1922_table = pd.concat(previous_season, ignore_index=True)\n",
    "\n",
    "# Export table to .csv\n",
    "# Export values\n",
    "df_ratings_1922_table.to_csv(\"/Users/Razak/Desktop/Arsenal Database Project/scraped csv files/Raw csv/Old Season/temp_ratings19-22_raw.csv\", index=False, encoding = 'utf-8-sig')"
   ]
  },
  {
   "cell_type": "markdown",
   "metadata": {},
   "source": [
    "### Current Season Data\n",
    "Run the code below to add new data for the current season to the existing data above, then export the updated data."
   ]
  },
  {
   "cell_type": "code",
   "execution_count": 11,
   "metadata": {},
   "outputs": [],
   "source": [
    "# save new season table (Always updating)\n",
    "df_new = ratings('2023-2024')\n",
    "\n",
    "# read old season table (using pandas read excel)\n",
    "previous_table = pd.read_csv(\"/Users/Razak/Desktop/Arsenal Database Project/scraped csv files/Raw csv/Old Season/temp_ratings19-22_raw.csv\")\n",
    "\n",
    "# join new and onld season (concat)\n",
    "joined_season = pd.concat([previous_table, df_new], ignore_index=True)\n",
    "\n",
    "# export join (export and save as old+new updated table)\n",
    "joined_season.to_csv(\"/Users/Razak/Desktop/Arsenal Database Project/scraped csv files/Raw csv/Updated tables/temp_updatedratings_raw.csv\", index=False, encoding = 'utf-8-sig')"
   ]
  }
 ],
 "metadata": {
  "kernelspec": {
   "display_name": "Python 3",
   "language": "python",
   "name": "python3"
  },
  "language_info": {
   "codemirror_mode": {
    "name": "ipython",
    "version": 3
   },
   "file_extension": ".py",
   "mimetype": "text/x-python",
   "name": "python",
   "nbconvert_exporter": "python",
   "pygments_lexer": "ipython3",
   "version": "3.12.1"
  }
 },
 "nbformat": 4,
 "nbformat_minor": 2
}
