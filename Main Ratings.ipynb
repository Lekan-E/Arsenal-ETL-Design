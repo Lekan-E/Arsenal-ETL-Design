{
 "cells": [
  {
   "cell_type": "markdown",
   "metadata": {},
   "source": [
    "# Player's Average Ratings"
   ]
  },
  {
   "cell_type": "code",
   "execution_count": 64,
   "metadata": {},
   "outputs": [],
   "source": [
    "# Import required libraries\n",
    "import pandas as pd\n",
    "import requests\n",
    "import time"
   ]
  },
  {
   "cell_type": "code",
   "execution_count": 65,
   "metadata": {},
   "outputs": [],
   "source": [
    "# Assign the seasons accordingly\n",
    "season_mapping = {\n",
    "    '2023-2024': 20720,\n",
    "    '2022-2023' : 17664,\n",
    "    '2021-2022' : 16390,\n",
    "    '2020-2021' : 15382,\n",
    "    '2019-2020' : 14022\n",
    "}"
   ]
  },
  {
   "cell_type": "code",
   "execution_count": 66,
   "metadata": {},
   "outputs": [],
   "source": [
    "# Function takes the season, performs data cleaning and returns ratings\n",
    "def ratings(season):\n",
    "\n",
    "    # Scrape data using API\n",
    "    headers = {\n",
    "    'sec-ch-ua': '\"Not_A Brand\";v=\"8\", \"Chromium\";v=\"120\", \"Google Chrome\";v=\"120\"',\n",
    "    'Referer': 'https://www.fotmob.com/leagues/47/stats/season/20720/players/rating/team/9825',\n",
    "    'x-fm-req': 'eyJib2R5Ijp7ImNvZGUiOjE3MDYxMzExOTE5Mjl9LCJzaWduYXR1cmUiOiJCNjg0Mjg0ODFEQTY5NjQ3MEVCNTFFQjkyM0RFNjcyQSJ9',\n",
    "    'sec-ch-ua-mobile': '?0',\n",
    "    'User-Agent': 'Mozilla/5.0 (Windows NT 10.0; Win64; x64) AppleWebKit/537.36 (KHTML, like Gecko) Chrome/120.0.0.0 Safari/537.36',\n",
    "    'sec-ch-ua-platform': '\"Windows\"',\n",
    "    }\n",
    "\n",
    "    params = {\n",
    "        'id': '47',\n",
    "        'season': season_mapping[season],\n",
    "        'type': 'players',\n",
    "        'stat': 'rating',\n",
    "        'teamId': '9825',\n",
    "    }\n",
    "\n",
    "    response = requests.get('https://www.fotmob.com/api/leagueseasondeepstats', params=params, headers=headers)\n",
    "\n",
    "    # Check the response status code \n",
    "    if response.status_code == 200:\n",
    "        playerRatings = response.json()\n",
    "\n",
    "        statsData = playerRatings['statsData']\n",
    "\n",
    "        # Store player names\n",
    "        names = [player['name'] for player in statsData]\n",
    "\n",
    "        # Store ratings in a list\n",
    "        ratings = [statsData[i]['statValue']['value'] for i in range(len(statsData))] \n",
    "\n",
    "        # Convert the dictionary into a dataframe\n",
    "        df_ratings = pd.DataFrame.from_dict(statsData)\n",
    "        \n",
    "        df_ratings['PlayerName'] = names\n",
    "        df_ratings['Ratings'] = ratings\n",
    "        \n",
    "        # Filter for needed columns and insert a new colum to assgin the appropriate season\n",
    "        df_ratings = df_ratings.loc[:,['PlayerName','Ratings']]\n",
    "        df_ratings['Season_name'] = season\n",
    "\n",
    "        return df_ratings\n",
    "    \n",
    "    else:\n",
    "        f'Wrong response: {response.status_code}'\n",
    "    "
   ]
  },
  {
   "cell_type": "markdown",
   "metadata": {},
   "source": [
    "### Historical Data\n",
    "Stores and saves data from past season, these ratings do not change threfore don't need to be ran frequently."
   ]
  },
  {
   "cell_type": "code",
   "execution_count": 67,
   "metadata": {},
   "outputs": [],
   "source": [
    "# Save old season table\n",
    "# Run for each year   \n",
    "df_ratings_19 = ratings('2019-2020')\n",
    "df_ratings_20 = ratings('2020-2021')\n",
    "df_ratings_21 = ratings('2021-2022')\n",
    "df_ratings_22 = ratings('2022-2023')\n",
    "\n",
    "# Join all the old data together into a table,\n",
    "previous_season = [df_ratings_19,df_ratings_20,df_ratings_21,df_ratings_22]\n",
    "df_ratings_1922_table = pd.concat(previous_season, ignore_index=True)\n",
    "\n",
    "# Export table to .csv\n",
    "df_ratings_1922_table.to_csv(\"/Users/Razak/Desktop/Arsenal Database Project/scraped csv files/Raw csv/Old Season/temp_ratings19-22_raw.csv\", index=False, encoding = 'utf-8-sig')"
   ]
  },
  {
   "cell_type": "code",
   "execution_count": 71,
   "metadata": {},
   "outputs": [
    {
     "data": {
      "text/html": [
       "<div>\n",
       "<style scoped>\n",
       "    .dataframe tbody tr th:only-of-type {\n",
       "        vertical-align: middle;\n",
       "    }\n",
       "\n",
       "    .dataframe tbody tr th {\n",
       "        vertical-align: top;\n",
       "    }\n",
       "\n",
       "    .dataframe thead th {\n",
       "        text-align: right;\n",
       "    }\n",
       "</style>\n",
       "<table border=\"1\" class=\"dataframe\">\n",
       "  <thead>\n",
       "    <tr style=\"text-align: right;\">\n",
       "      <th></th>\n",
       "      <th>PlayerName</th>\n",
       "      <th>Ratings</th>\n",
       "      <th>Season_name</th>\n",
       "    </tr>\n",
       "  </thead>\n",
       "  <tbody>\n",
       "    <tr>\n",
       "      <th>49</th>\n",
       "      <td>Oleksandr Zinchenko</td>\n",
       "      <td>7.27</td>\n",
       "      <td>2022-2023</td>\n",
       "    </tr>\n",
       "    <tr>\n",
       "      <th>55</th>\n",
       "      <td>Aaron Ramsdale</td>\n",
       "      <td>6.75</td>\n",
       "      <td>2022-2023</td>\n",
       "    </tr>\n",
       "    <tr>\n",
       "      <th>48</th>\n",
       "      <td>Gabriel Jesus</td>\n",
       "      <td>7.42</td>\n",
       "      <td>2022-2023</td>\n",
       "    </tr>\n",
       "    <tr>\n",
       "      <th>12</th>\n",
       "      <td>Sead Kolasinac</td>\n",
       "      <td>6.58</td>\n",
       "      <td>2019-2020</td>\n",
       "    </tr>\n",
       "    <tr>\n",
       "      <th>52</th>\n",
       "      <td>Gabriel</td>\n",
       "      <td>7.16</td>\n",
       "      <td>2022-2023</td>\n",
       "    </tr>\n",
       "    <tr>\n",
       "      <th>14</th>\n",
       "      <td>Joseph Willock</td>\n",
       "      <td>6.30</td>\n",
       "      <td>2019-2020</td>\n",
       "    </tr>\n",
       "    <tr>\n",
       "      <th>3</th>\n",
       "      <td>Granit Xhaka</td>\n",
       "      <td>6.77</td>\n",
       "      <td>2019-2020</td>\n",
       "    </tr>\n",
       "    <tr>\n",
       "      <th>30</th>\n",
       "      <td>Bukayo Saka</td>\n",
       "      <td>7.35</td>\n",
       "      <td>2021-2022</td>\n",
       "    </tr>\n",
       "    <tr>\n",
       "      <th>42</th>\n",
       "      <td>Aaron Ramsdale</td>\n",
       "      <td>6.71</td>\n",
       "      <td>2021-2022</td>\n",
       "    </tr>\n",
       "    <tr>\n",
       "      <th>53</th>\n",
       "      <td>Ben White</td>\n",
       "      <td>7.16</td>\n",
       "      <td>2022-2023</td>\n",
       "    </tr>\n",
       "  </tbody>\n",
       "</table>\n",
       "</div>"
      ],
      "text/plain": [
       "             PlayerName  Ratings Season_name\n",
       "49  Oleksandr Zinchenko     7.27   2022-2023\n",
       "55       Aaron Ramsdale     6.75   2022-2023\n",
       "48        Gabriel Jesus     7.42   2022-2023\n",
       "12       Sead Kolasinac     6.58   2019-2020\n",
       "52              Gabriel     7.16   2022-2023\n",
       "14       Joseph Willock     6.30   2019-2020\n",
       "3          Granit Xhaka     6.77   2019-2020\n",
       "30          Bukayo Saka     7.35   2021-2022\n",
       "42       Aaron Ramsdale     6.71   2021-2022\n",
       "53            Ben White     7.16   2022-2023"
      ]
     },
     "execution_count": 71,
     "metadata": {},
     "output_type": "execute_result"
    }
   ],
   "source": [
    "# Sample result\n",
    "df_ratings_1922_table.sample(10)"
   ]
  },
  {
   "cell_type": "markdown",
   "metadata": {},
   "source": [
    "### Current Season Data\n",
    "Run the code below to add new data for the current season to the existing data above, then export the updated data."
   ]
  },
  {
   "cell_type": "code",
   "execution_count": 69,
   "metadata": {},
   "outputs": [],
   "source": [
    "# save new season table (Always updating)\n",
    "df_new = ratings('2023-2024')\n",
    "\n",
    "# read old season table (using pandas read excel)\n",
    "previous_table = pd.read_csv(\"/Users/Razak/Desktop/Arsenal Database Project/scraped csv files/Raw csv/Old Season/temp_ratings19-22_raw.csv\")\n",
    "\n",
    "# join new and onld season (concat)\n",
    "joined_season = pd.concat([previous_table, df_new], ignore_index=True)\n",
    "\n",
    "# export join (export and save as old+new updated table)\n",
    "joined_season.to_csv(\"/Users/Razak/Desktop/Arsenal Database Project/scraped csv files/Raw csv/Updated tables/temp_seasonratings.csv\", index=False, encoding = 'utf-8-sig')"
   ]
  },
  {
   "cell_type": "code",
   "execution_count": null,
   "metadata": {},
   "outputs": [],
   "source": []
  }
 ],
 "metadata": {
  "kernelspec": {
   "display_name": "Python 3",
   "language": "python",
   "name": "python3"
  },
  "language_info": {
   "codemirror_mode": {
    "name": "ipython",
    "version": 3
   },
   "file_extension": ".py",
   "mimetype": "text/x-python",
   "name": "python",
   "nbconvert_exporter": "python",
   "pygments_lexer": "ipython3",
   "version": "3.12.1"
  }
 },
 "nbformat": 4,
 "nbformat_minor": 2
}
