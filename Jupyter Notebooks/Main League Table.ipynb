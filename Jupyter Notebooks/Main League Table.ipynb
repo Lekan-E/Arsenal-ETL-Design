{
 "cells": [
  {
   "cell_type": "code",
   "execution_count": 9,
   "metadata": {},
   "outputs": [],
   "source": [
    "# Import required libraries\n",
    "from selenium import webdriver\n",
    "from selenium.webdriver.common.by import By\n",
    "from webdriver_manager.chrome import ChromeDriverManager\n",
    "import datetime as dt\n",
    "import time\n",
    "import pandas as pd"
   ]
  },
  {
   "cell_type": "code",
   "execution_count": 10,
   "metadata": {},
   "outputs": [],
   "source": [
    "# Assign the seasons accordingly\n",
    "season_mapping = {\n",
    "    2023:'2023-2024',\n",
    "    2022:'2022-2023',\n",
    "    2021:'2021-2022',\n",
    "    2020:'2020-2021',\n",
    "    2019:'2019-2020'\n",
    "}"
   ]
  },
  {
   "cell_type": "code",
   "execution_count": 11,
   "metadata": {},
   "outputs": [],
   "source": [
    "# A function to check and adjust the list accordingly and enusre they are all the same length\n",
    "def check(data):\n",
    "\n",
    "    cleaned_list = []\n",
    "    for i in range(len(data)):\n",
    "        if len(data[i]) == 13:\n",
    "            clean_data = [data[i][0]] + [' '.join(data[i][1:3])] + data[i][3:]\n",
    "            cleaned_list.append(clean_data)\n",
    "        elif len(data[i]) > 13:\n",
    "            clean_data = [data[i][0]] + [' '.join(data[i][1:4])] + data[i][4:]\n",
    "            cleaned_list.append(clean_data)\n",
    "        elif len(data[i]) == 12:\n",
    "            cleaned_list.append(data[i])\n",
    "\n",
    "    return cleaned_list"
   ]
  },
  {
   "cell_type": "code",
   "execution_count": 12,
   "metadata": {},
   "outputs": [],
   "source": [
    "# Create a function that takes the season and scrapes the league table\n",
    "def table(season):\n",
    "\n",
    "    driver = webdriver.Chrome()\n",
    "\n",
    "    page_url = f\"https://understat.com/league/EPL/{season}\"\n",
    "    driver.get(page_url) \n",
    "\n",
    "    name = driver.find_elements(By.ID, 'league-chemp')[0]\n",
    "    table = name.text.split('\\n')\n",
    "    \n",
    "    # Breaks the table into a list of list\n",
    "    data = [line.split() for line in table] \n",
    "\n",
    "    # Checks the length of each list item and sorts accordingly\n",
    "    cleaned_list = check(data)\n",
    "\n",
    "    # Transform to a dataframe\n",
    "    df = pd.DataFrame(cleaned_list)\n",
    "\n",
    "    # Assign the first row of the list as the column header\n",
    "    df.columns = df.iloc[0]\n",
    "    df = df[1:]\n",
    "\n",
    "    # Rename the column \n",
    "    df.rename(columns = {'№':'Position',\n",
    "                        'M':'MatchesPlayed',\n",
    "                        'W':'Wins',\n",
    "                        'D':'Draw',\n",
    "                        'L':'Loss',\n",
    "                        'G':'GoalsScored',\n",
    "                        'GA':'GoalsAgainst',\n",
    "                        'PTS':'Points'}, inplace=True)\n",
    "\n",
    "    # Change 'Position' to an interger\n",
    "    df['Position'] = df['Position'].astype(int)\n",
    "\n",
    "    # Filter to show only Arsenal data\n",
    "    df_arsenal = df[df['Team'] == 'Arsenal']\n",
    "\n",
    "    # Add a current season to respective table\n",
    "    df_arsenal['season_name'] = season_mapping[season]\n",
    "\n",
    "    return df_arsenal\n"
   ]
  },
  {
   "cell_type": "markdown",
   "metadata": {},
   "source": [
    "### Historical Data"
   ]
  },
  {
   "cell_type": "code",
   "execution_count": null,
   "metadata": {},
   "outputs": [],
   "source": [
    "# Previous season and historical data \n",
    "df_arsenal_19 = table(2019)\n",
    "df_arsenal_20 = table(2020)\n",
    "df_arsenal_21 = table(2021)\n",
    "df_arsenal_22 = table(2022)\n",
    "\n",
    "# Join all the old data together into a table,\n",
    "previous_season = [df_arsenal_19,df_arsenal_20,df_arsenal_21, df_arsenal_22]\n",
    "df_league_1922_table = pd.concat(previous_season, ignore_index=True)\n",
    "\n",
    "# Export values\n",
    "df_league_1922_table.to_csv(\"/Users/Razak/Desktop/Arsenal Database Project/scraped csv files/Raw csv/Old Season/temp_leaguetable19-22_raw.csv\", index=False, encoding = 'utf-8-sig')"
   ]
  },
  {
   "cell_type": "markdown",
   "metadata": {},
   "source": [
    "### Current Season Data\n",
    "Run the code below to add new data for the current season to the existing data above, then export the updated data."
   ]
  },
  {
   "cell_type": "code",
   "execution_count": null,
   "metadata": {},
   "outputs": [],
   "source": [
    "# New changing data\n",
    "df_arsenal_23 = table(2023)\n",
    "\n",
    "# read old season table (using pandas read excel)\n",
    "previous_table = pd.read_csv(\"/Users/Razak/Desktop/Arsenal Database Project/scraped csv files/Raw csv/Old Season/temp_leaguetable19-22_raw.csv\")\n",
    "\n",
    "# join new and onld season (concat)\n",
    "joined_season = pd.concat([previous_table, df_arsenal_23], ignore_index=True)\n",
    "\n",
    "# export join (export and save as old+new updated table)\n",
    "joined_season.to_csv(\"/Users/Razak/Desktop/Arsenal Database Project/scraped csv files/Raw csv/Updated tables/temp_updatedleaguetable_raw.csv\", index=False, encoding = 'utf-8-sig')"
   ]
  }
 ],
 "metadata": {
  "kernelspec": {
   "display_name": "Python 3",
   "language": "python",
   "name": "python3"
  },
  "language_info": {
   "codemirror_mode": {
    "name": "ipython",
    "version": 3
   },
   "file_extension": ".py",
   "mimetype": "text/x-python",
   "name": "python",
   "nbconvert_exporter": "python",
   "pygments_lexer": "ipython3",
   "version": "3.12.1"
  }
 },
 "nbformat": 4,
 "nbformat_minor": 2
}
